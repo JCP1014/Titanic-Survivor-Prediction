{
 "cells": [
  {
   "cell_type": "markdown",
   "metadata": {},
   "source": [
    "# 作業 2\n",
    "\n",
    "本作業使用 [Kaggle Titanic](https://www.kaggle.com/c/titanic/overview) 所提供的資料，根據鐵達尼號乘客資料預測生還者。\n",
    "我們只使用 `train.csv` 進行生還者預測（只有 `train.csv` 才有答案），而加分題需要額外使用 `test.csv` 並提交至 [Kaggle Titanic](https://www.kaggle.com/c/titanic/overview) 進行評分。\n",
    "\n",
    "本作業需要先學習[程式教材](https://github.com/IKMLab/course_material)中的以下部份：\n",
    "\n",
    "- [jupyter-基本功能](https://github.com/IKMLab/course_material/blob/master/jupyter-%E5%9F%BA%E6%9C%AC%E5%8A%9F%E8%83%BD.ipynb)\n",
    "- [python-入門語法](https://github.com/IKMLab/course_material/blob/master/python-%E5%85%A5%E9%96%80%E8%AA%9E%E6%B3%95.ipynb)\n",
    "- [numpy-基本功能](https://github.com/IKMLab/course_material/blob/master/numpy-%E5%9F%BA%E6%9C%AC%E5%8A%9F%E8%83%BD.ipynb)\n",
    "- [pandas-基本功能](https://github.com/IKMLab/course_material/blob/master/pandas-%E5%9F%BA%E6%9C%AC%E5%8A%9F%E8%83%BD.ipynb)\n",
    "- [matplotlib-資料視覺化](https://github.com/IKMLab/course_material/blob/master/matplotlib-%E8%B3%87%E6%96%99%E8%A6%96%E8%A6%BA%E5%8C%96.ipynb)\n",
    "- [scikit-learn-基本功能](https://github.com/IKMLab/course_material/blob/master/scikit-learn-%E5%9F%BA%E6%9C%AC%E5%8A%9F%E8%83%BD.ipynb)"
   ]
  },
  {
   "cell_type": "markdown",
   "metadata": {},
   "source": [
    "## 繳交規則\n",
    "\n",
    "1. 請將**當前資料夾**命名為 `FDA_HW2_你的學號`\n",
    "    - 例如：`FDA_HW2_F12345678`\n",
    "    - 所有**英文**都必須**大寫**\n",
    "    - 所有**文字**都必須在 **ASCII** 範圍\n",
    "2. 請將本檔案命名為 `main.ipynb`\n",
    "3. 請描述開發所需要的**環境**，包含：\n",
    "    - **作業系統**與**發行版本**\n",
    "        - 例如：Windows、Mac、Linux 等\n",
    "        - 需要填寫系統**名稱**與**版本**\n",
    "    - **程式執行環境**\n",
    "        - 例如：jupyter、kaggle kernel、colab 等\n",
    "        - 如果是 jupyter 請**填寫**版本\n",
    "        - 如果是雲端計算資源**不需填寫**版本\n",
    "        - 請**勿**使用**付費**資源，助教薪水**微薄**\n",
    "    - **python 版本**\n",
    "        - 例如：3.6.9\n",
    "        - 填寫**至少**能執行的版本即可\n",
    "    - **安裝環境**\n",
    "        - 例如使用 `pip`、`conda` 等\n",
    "        - 助教會以虛擬環境測試\n",
    "    - **安裝套件**與**版本**\n",
    "        - 請使用 `requirements.txt`\n",
    "        - 助教會以虛擬環境測試\n",
    "        - 請**不要**附上**多餘**的套件\n",
    "    - **計算資源**\n",
    "        - 使用 CPU **數量**\n",
    "        - GPU 版本\n",
    "    - **執行**所需花費**時間**\n",
    "        - 請**不要更改**擁有註解 `請勿更動此區塊程式碼` 的程式碼區塊\n",
    "4. 請**保留執行結果**讓助教可以直接觀看\n",
    "    - 請記得使用 **Save**\n",
    "    - **雲端**計算資源請**儲存**後**下載**檔案\n",
    "    - 所有程式區塊**必須依序執行**\n",
    "    - 請**不要**保留**多餘**的程式區塊\n",
    "5. 請**控制隨機亂數**讓實驗結果可以**重現**\n",
    "    - 關鍵字：**random seed**\n",
    "6. 請**不要**上傳**多餘**的檔案\n",
    "    - 不要上傳**資料**檔案，包含 `train.csv` 與 `test.csv` 等\n",
    "    - 不要上傳**隱藏**檔案，包含 `.git`、`.ipynb_checkpoints` 等\n",
    "    - 不要上傳**虛擬環境**\n",
    "7. 請附上**參考連結**\n",
    "    - 可以參考公開的 kernel\n",
    "    - 沒附上連結者視同**瓢竊**\n",
    "    - 使用的**演算法**請附上來源，並大致描述概念\n",
    "8. 請**壓縮**成 `zip` 並上傳至 [moodle](http://moodle.ncku.edu.tw/)\n",
    "    - 例如 `FDA_HW2_F12345678.zip`"
   ]
  },
  {
   "cell_type": "markdown",
   "metadata": {},
   "source": [
    "## 評分標準\n",
    "\n",
    "如果有參考其他作法卻沒有附上來源，則直接視為瓢竊，得分為 $-\\infty$。\n",
    "\n",
    "|規則|滿足規則得分|沒滿足規則失分|\n",
    "|-|-|-|\n",
    "|資料夾名稱符合繳交規則|0|-60|\n",
    "|檔案名稱符合繳交規則|0|-60|\n",
    "|填寫環境需求|0|-60|\n",
    "|填寫計算資源|0|-60|\n",
    "|提供 `requirements.txt`|0|-60|\n",
    "|將資料夾壓縮成 `zip`|0|-60|\n",
    "|不更改擁有註解 `請勿更動此區塊程式碼` 的程式碼區塊|0|-60|\n",
    "|計算並顯示執行時間|0|-60|\n",
    "|控制隨機亂數讓實驗結果可以重現|0|-60|\n",
    "|使用 `markdown` 區塊描述資料分析內容|+3|-10|\n",
    "|以資料視覺化輔助資料分析並以 `markdown` 區塊輔助描述圖中資訊|+7|-10|\n",
    "|選擇使用 `Sex` 與 `Age` 以外的特徵作為輸入並以 `markdown` 區塊描述方法與理由|+5|-10|\n",
    "|處理缺失值並以 `markdown` 區塊描述方法與理由|+5|-10|\n",
    "|轉換數值資料並以 `markdown` 區塊描述方法與理由|+5|-10|\n",
    "|轉換類別資料並以 `markdown` 區塊描述方法與理由|+5|-10|\n",
    "|使用其他方法進行資料前處理並以 `markdown` 區塊描述理由|+10|0|\n",
    "|使用決策樹以外的模型進行實驗|+10|-10|\n",
    "|使用 `markdown` 區塊簡單解釋模型演算法|+10|0|\n",
    "|解釋模型超參數的選擇理由|+5|-10|\n",
    "|使用 5-fold cross validation 輸出平均準確度|+5|-10|\n",
    "|使用所有資料訓練模型並輸出準確度|+5|-10|\n",
    "|使用多個不同模型進行實驗|+10|0|\n",
    "|使用 ensemble 進行實驗|+10|0|\n",
    "|試著讓其中一個實驗模型 overfitting（訓練與驗證準確度差距 > $10\\%$）|+9|0|\n",
    "|試著讓其中一個實驗模型 underfitting（訓練準確度約 $50\\% \\pm 10\\%$）|+1|0|\n",
    "|準確度超越課堂範例（$81\\%$）|+10|-10|\n",
    "|將最佳實驗結果套用到 `test.csv` 並截圖 Kaggle 評分|+10|0|\n",
    "|將最佳實驗結果套用到 `test.csv` 並取得 Kaggle Public Leaderboard Top $10\\%$|+20|0|\n",
    "|將最佳實驗結果套用到 `test.csv` 並取得 Kaggle Public Leaderboard Top $5\\%$|+30|0|\n",
    "|將最佳實驗結果套用到 `test.csv` 並取得 Kaggle Public Leaderboard Top $1\\%$|+50|0|"
   ]
  },
  {
   "cell_type": "markdown",
   "metadata": {},
   "source": [
    "## 環境\n",
    "\n",
    "請填寫當前執行使用的環境。\n",
    "\n",
    "|環境|名稱|版本|\n",
    "|-|-|-|\n",
    "|作業系統|Ubuntu|18.04.4 LTS|\n",
    "|程式執行環境|jupyter notebook|6.0.3|\n",
    "|python 版本|python3|3.6.9|\n",
    "|安裝環境|pip|20.0.2|"
   ]
  },
  {
   "cell_type": "markdown",
   "metadata": {},
   "source": [
    "## 安裝\n",
    "\n",
    "請填寫安裝套件需要的指令\n",
    "\n",
    "```sh\n",
    "pip3 install -r requirements.txt\n",
    "```"
   ]
  },
  {
   "cell_type": "markdown",
   "metadata": {},
   "source": [
    "## 計算資源\n",
    "\n",
    "請填寫執行程式所需要的計算資源，請確保所有資源限制在單一個人桌上型電腦且能夠以總市價低於 5 萬的手段取得。\n",
    "\n",
    "|計算資源|答案|\n",
    "|-|-|\n",
    "|使用 CPU 核心數|1|\n",
    "|記憶體需求|$\\leq 1$GB|\n",
    "|有無使用 GPU|無|\n",
    "|GPU 版本|無|\n",
    "|GPU 記憶體需求|$\\leq 1$GB|"
   ]
  },
  {
   "cell_type": "markdown",
   "metadata": {},
   "source": [
    "## 參考連結\n",
    "\n",
    "- 有無參考他人之實驗結果：無\n",
    "- 參考連結："
   ]
  },
  {
   "cell_type": "code",
   "execution_count": 1,
   "metadata": {},
   "outputs": [],
   "source": [
    "# 請勿更動此區塊程式碼\n",
    "\n",
    "import time\n",
    "import numpy as np\n",
    "import pandas as pd\n",
    "\n",
    "EXECUTION_START_TIME = time.time() # 計算執行時間\n",
    "\n",
    "df = pd.read_csv('train.csv')      # 讀取資料，請勿更改路徑"
   ]
  },
  {
   "cell_type": "markdown",
   "metadata": {},
   "source": [
    "## 資料分析與前處理\n",
    "\n",
    "請在此區塊後使用**一個或多個區塊**進行資料分析與前處理，項目可以包含：\n",
    "\n",
    "- 資料視覺化\n",
    "- 相關係數\n",
    "- 決定輸入特徵\n",
    "- 處理缺失值\n",
    "- 轉換數值\n",
    "- 轉換類別\n",
    "- 其他\n",
    "\n",
    "請以 `markdown` 簡單描述**流程**、**方法**與**原因**：\n",
    "\n",
    "1. 觀察...，發現...\n",
    "2. 填補...，策略...\n",
    "3. 轉換...，原因..."
   ]
  },
  {
   "cell_type": "code",
   "execution_count": 2,
   "metadata": {},
   "outputs": [
    {
     "data": {
      "image/png": "[encoded data removed]",
      "text/plain": [
       "<Figure size 432x288 with 1 Axes>"
      ]
     },
     "metadata": {
      "needs_background": "light"
     },
     "output_type": "display_data"
    },
    {
     "data": {
      "image/png": "[encoded data removed]",
      "text/plain": [
       "<Figure size 432x288 with 1 Axes>"
      ]
     },
     "metadata": {
      "needs_background": "light"
     },
     "output_type": "display_data"
    },
    {
     "data": {
      "image/png": "[encoded data removed]",
      "text/plain": [
       "<Figure size 432x288 with 1 Axes>"
      ]
     },
     "metadata": {
      "needs_background": "light"
     },
     "output_type": "display_data"
    }
   ],
   "source": [
    "# 資料分析與前處理\n",
    "from sklearn.impute import SimpleImputer\n",
    "from sklearn.preprocessing import LabelEncoder\n",
    "## 填補缺失值\n",
    "### 填補'Embarked'缺失值(用眾數)\n",
    "imputer = SimpleImputer(strategy='most_frequent')\n",
    "df['Embarked'] = imputer.fit_transform(df['Embarked'].to_numpy().reshape(-1, 1))\n",
    "\n",
    "## 轉換類別\n",
    "### 轉換Sex資料(0:male, 1:female)\n",
    "le = LabelEncoder()\n",
    "df['Sex'] = le.fit_transform(df['Sex'])\n",
    "### 轉換Embarked資料(0:C, 1:Q, 2:S)\n",
    "le = LabelEncoder()\n",
    "df['Embarked'] = le.fit_transform(df['Embarked'])\n",
    "\n",
    "## 資料視覺化\n",
    "import matplotlib.pyplot as plt\n",
    "import seaborn as sns\n",
    "\n",
    "def countNum(colA, valA, colB, valB):\n",
    "  return df[(df[colA] ==valA) & (df[colB] ==valB)].PassengerId.count()\n",
    "\n",
    "def autoLabel(rects, ax):\n",
    "    # Attach a text label above each bar in *rects*, displaying its height.\n",
    "    for rect in rects:\n",
    "        height = rect.get_height()\n",
    "        ax.annotate('{}'.format(height),\n",
    "                    xy=(rect.get_x() + rect.get_width() / 2, height),\n",
    "                    xytext=(0, 3),  # 3 points vertical offset\n",
    "                    textcoords=\"offset points\",\n",
    "                    ha='center', va='bottom')\n",
    "        \n",
    "def drawChart(labels, survived, dead, xLabel):\n",
    "  x = np.arange(len(labels))  # the label locations\n",
    "  width = 0.35  # the width of the bars\n",
    "\n",
    "  fig, ax = plt.subplots()\n",
    "  rects1 = ax.bar(x - width/2, survived, width, label='survived')\n",
    "  rects2 = ax.bar(x + width/2, dead, width, label='dead')\n",
    "\n",
    "  # Add some text for labels, title and custom x-axis tick labels, etc.\n",
    "  ax.set_xlabel(xLabel)\n",
    "  ax.set_ylabel('Number of passengers')\n",
    "  ax.set_xticks(x)\n",
    "  ax.set_xticklabels(labels)\n",
    "  ax.legend()\n",
    "\n",
    "  autoLabel(rects1, ax)\n",
    "  autoLabel(rects2, ax)\n",
    "\n",
    "  fig.tight_layout()\n",
    "  plt.show()\n",
    "\n",
    "labels = ['1', '2', '3']\n",
    "survived = [countNum('Survived', 1, 'Pclass', 1), countNum('Survived', 1, 'Pclass', 2), countNum('Survived', 1, 'Pclass', 3)]\n",
    "dead = [countNum('Survived', 0, 'Pclass', 1), countNum('Survived', 0, 'Pclass', 2), countNum('Survived', 0, 'Pclass', 3)]\n",
    "drawChart(labels, survived, dead, 'Pclass')\n",
    "\n",
    "labels = ['male', 'female']\n",
    "survived = [countNum('Survived', 1, 'Sex', 0), countNum('Survived', 1, 'Sex', 1)]\n",
    "dead = [countNum('Survived', 0, 'Sex', 0), countNum('Survived', 0, 'Sex', 1)]\n",
    "drawChart(labels, survived, dead, 'Sex')\n",
    "\n",
    "labels = ['C', 'Q', 'S']\n",
    "survived = [countNum('Survived', 1, 'Embarked', 0), countNum('Survived', 1, 'Embarked', 1), countNum('Survived', 1, 'Embarked', 2)]\n",
    "dead = [countNum('Survived', 0, 'Embarked', 0), countNum('Survived', 0, 'Embarked', 1), countNum('Survived', 0, 'Embarked', 2)]\n",
    "drawChart(labels, survived, dead, 'Embarked')\n",
    "\n",
    "train_x = df[['Sex', 'Age']]                   # 取出訓練資料需要分析的資料欄位\n",
    "train_y = df['Survived']                       # 取出訓練資料的答案\n",
    "# from sklearn.impute import SimpleImputer       # 匯入填補缺失值的工具\n",
    "# from sklearn.preprocessing import LabelEncoder # 匯入 Label Encoder\n",
    "\n",
    "# imputer = SimpleImputer(strategy='median')     # 創造 imputer 並設定填補策略\n",
    "# age = train_x['Age'].to_numpy().reshape(-1, 1)\n",
    "# imputer.fit(age)                               # 根據資料學習需要填補的值\n",
    "# train_x['Age'] = imputer.transform(age)        # 填補缺失值\n",
    "\n",
    "# le = LabelEncoder()                            # 創造 Label Encoder\n",
    "# le.fit(train_x['Sex'])                         # 給予每個類別一個數值\n",
    "# train_x['Sex'] = le.transform(train_x['Sex'])  # 轉換所有類別成為數值"
   ]
  },
  {
   "cell_type": "markdown",
   "metadata": {},
   "source": [
    "## 模型訓練\n",
    "\n",
    "請在此區塊後使用**一個或多個區塊**進行模型訓練，**需要**包含以下內容：\n",
    "\n",
    "- **選擇模型**\n",
    "    - 設定模型**超參數**\n",
    "    - **控制隨機亂數**\n",
    "- 計算**準確度（Accuracy）**\n",
    "    - 使用 **5-fold cross validation**，輸出**平均準確度**\n",
    "    - 最後再使用**所有**資料進行訓練並輸出**準確度**\n",
    "    - 準確度必須**超越**課堂使用的範例\n",
    "    \n",
    "如果有進行多於一個以上的實驗，**可以保留所有**的實驗結果，但是執行時間將會納入**全部**實驗。"
   ]
  },
  {
   "cell_type": "code",
   "execution_count": null,
   "metadata": {},
   "outputs": [],
   "source": [
    "# 模型訓練\n",
    "\n",
    "from sklearn.model_selection import KFold             # 匯入 K 次交叉驗證工具\n",
    "from sklearn.tree import DecisionTreeClassifier       # 匯入決策樹模型\n",
    "from sklearn.metrics import accuracy_score            # 匯入準確度計算工具\n",
    "\n",
    "kf = KFold(n_splits=5,                                # 設定 K 值\n",
    "           random_state=1012,\n",
    "           shuffle=True)\n",
    "kf.get_n_splits(train_x)                              # 給予資料範圍\n",
    "\n",
    "train_acc_list = []                                   # 儲存每次訓練模型的準確度\n",
    "valid_acc_list = []                                   # 儲存每次驗證模型的準確度\n",
    "\n",
    "for train_index, valid_index in kf.split(train_x):    # 每個迴圈都會產生不同部份的資料\n",
    "    train_x_split = train_x.iloc[train_index]         # 產生訓練資料\n",
    "    train_y_split = train_y.iloc[train_index]         # 產生訓練資料標籤\n",
    "    valid_x_split = train_x.iloc[valid_index]         # 產生驗證資料\n",
    "    valid_y_split = train_y.iloc[valid_index]         # 產生驗證資料標籤\n",
    "    \n",
    "    model = DecisionTreeClassifier(random_state=1012) # 創造決策樹模型\n",
    "    model.fit(train_x_split, train_y_split)           # 訓練決策樹模型\n",
    "    \n",
    "    train_pred_y = model.predict(train_x_split)       # 確認模型是否訓練成功\n",
    "    train_acc = accuracy_score(train_y_split,         # 計算訓練資料準確度\n",
    "                               train_pred_y)\n",
    "    valid_pred_y = model.predict(valid_x_split)       # 驗證模型是否訓練成功\n",
    "    valid_acc = accuracy_score(valid_y_split,         # 計算驗證資料準確度\n",
    "                               valid_pred_y)\n",
    "    \n",
    "    train_acc_list.append(train_acc)\n",
    "    valid_acc_list.append(valid_acc)\n",
    "\n",
    "print((\n",
    "    'average train accuracy: {}\\n' +\n",
    "    '    min train accuracy: {}\\n' +\n",
    "    '    max train accuracy: {}\\n' +\n",
    "    'average valid accuracy: {}\\n' +\n",
    "    '    min valid accuracy: {}\\n' +\n",
    "    '    max valid accuracy: {}').format(\n",
    "    np.mean(train_acc_list),                          # 輸出平均訓練準確度\n",
    "    np.min(train_acc_list),                           # 輸出最低訓練準確度\n",
    "    np.max(train_acc_list),                           # 輸出最高訓練準確度\n",
    "    np.mean(valid_acc_list),                          # 輸出平均驗證準確度\n",
    "    np.min(valid_acc_list),                           # 輸出最低驗證準確度\n",
    "    np.max(valid_acc_list)                            # 輸出最高驗證準確度\n",
    "))"
   ]
  },
  {
   "cell_type": "markdown",
   "metadata": {},
   "source": [
    "## 加分題\n",
    "\n",
    "請將訓練後的模型套用至 [Kaggle Titanic](https://www.kaggle.com/c/titanic/overview) `test.csv` 上，並上傳至 Kaggle 進行評分，**截圖**後**嵌入**至 `markdown` 區塊中。"
   ]
  },
  {
   "cell_type": "code",
   "execution_count": null,
   "metadata": {},
   "outputs": [],
   "source": [
    "# 請勿更動此區塊程式碼\n",
    "\n",
    "EXECUTION_END_TIME = time.time() # 計算執行時間\n",
    "print('total execution time: {}'.format(EXECUTION_END_TIME - EXECUTION_START_TIME))"
   ]
  }
 ],
 "metadata": {
  "kernelspec": {
   "display_name": "Python 3",
   "language": "python",
   "name": "python3"
  },
  "language_info": {
   "codemirror_mode": {
    "name": "ipython",
    "version": 3
   },
   "file_extension": ".py",
   "mimetype": "text/x-python",
   "name": "python",
   "nbconvert_exporter": "python",
   "pygments_lexer": "ipython3",
   "version": "3.6.9"
  }
 },
 "nbformat": 4,
 "nbformat_minor": 4
}
